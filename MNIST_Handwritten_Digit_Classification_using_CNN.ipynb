{
  "nbformat": 4,
  "nbformat_minor": 0,
  "metadata": {
    "colab": {
      "provenance": []
    },
    "kernelspec": {
      "name": "python3",
      "display_name": "Python 3"
    },
    "language_info": {
      "name": "python"
    }
  },
  "cells": [
    {
      "cell_type": "code",
      "execution_count": null,
      "metadata": {
        "id": "hSjWOQlzU19m"
      },
      "outputs": [],
      "source": [
        "import numpy as np\n",
        "from tensorflow import keras\n",
        "from tensorflow.keras import layers\n",
        "import matplotlib.pyplot as plt"
      ]
    },
    {
      "cell_type": "code",
      "source": [
        "###Prepare Data"
      ],
      "metadata": {
        "id": "KFKKzRZFVESn"
      },
      "execution_count": null,
      "outputs": []
    },
    {
      "cell_type": "code",
      "source": [
        "num_classes=10\n",
        "input_shape =(28,28,1)\n",
        "(x_train, y_train), (x_test, y_test) =keras.datasets.mnist.load_data()"
      ],
      "metadata": {
        "id": "vgGa6ZZZVGDR"
      },
      "execution_count": null,
      "outputs": []
    },
    {
      "cell_type": "code",
      "source": [
        "print(x_train.shape, x_test.shape)"
      ],
      "metadata": {
        "colab": {
          "base_uri": "https://localhost:8080/"
        },
        "id": "4xE0rUHbVYGV",
        "outputId": "5631cc2d-c325-413e-f404-2ef218b25079"
      },
      "execution_count": null,
      "outputs": [
        {
          "output_type": "stream",
          "name": "stdout",
          "text": [
            "(60000, 28, 28) (10000, 28, 28)\n"
          ]
        }
      ]
    },
    {
      "cell_type": "code",
      "source": [
        "test=x_train[1000]\n",
        "plt.imshow(test, cmap ='gray')\n",
        "plt.show()"
      ],
      "metadata": {
        "colab": {
          "base_uri": "https://localhost:8080/",
          "height": 430
        },
        "id": "Ss15YTx1Va-8",
        "outputId": "1c0ccae8-56ac-435b-bec3-ac6a2ff6baf2"
      },
      "execution_count": null,
      "outputs": [
        {
          "output_type": "display_data",
          "data": {
            "text/plain": [
              "<Figure size 640x480 with 1 Axes>"
            ],
            "image/png": "[encoded data removed]"
          },
          "metadata": {}
        }
      ]
    },
    {
      "cell_type": "code",
      "source": [
        "#Pre Process"
      ],
      "metadata": {
        "id": "gKNucYMMVhup"
      },
      "execution_count": null,
      "outputs": []
    },
    {
      "cell_type": "code",
      "source": [
        "x_train =x_train.astype(\"float32\")/225\n",
        "x_test =x_test.astype(\"float32\")/225\n",
        "#make sure input shape =28 28 1\n",
        "x_train= np.expand_dims(x_train, -1)\n",
        "x_test = np.expand_dims(x_test, -1)"
      ],
      "metadata": {
        "id": "GZmnPTDXVkKH"
      },
      "execution_count": null,
      "outputs": []
    },
    {
      "cell_type": "code",
      "source": [
        "print(\"x_train shape: \", x_train.shape)\n",
        "print(x_train.shape[0], \" -Train samples\")\n",
        "print(x_test.shape[0], \"-Test samples\")"
      ],
      "metadata": {
        "colab": {
          "base_uri": "https://localhost:8080/"
        },
        "id": "HRaZwQBbV6Em",
        "outputId": "10a52355-afb6-4076-9d19-6a054eedef1e"
      },
      "execution_count": null,
      "outputs": [
        {
          "output_type": "stream",
          "name": "stdout",
          "text": [
            "x_train shape:  (60000, 28, 28, 1)\n",
            "60000  -Train samples\n",
            "10000 -Test samples\n"
          ]
        }
      ]
    },
    {
      "cell_type": "code",
      "source": [
        "y_train = keras.utils.to_categorical(y_train, num_classes)\n",
        "y_test = keras.utils.to_categorical(y_test, num_classes)"
      ],
      "metadata": {
        "id": "KF9RZprPWMuY"
      },
      "execution_count": null,
      "outputs": []
    },
    {
      "cell_type": "code",
      "source": [
        "y_train[0]"
      ],
      "metadata": {
        "colab": {
          "base_uri": "https://localhost:8080/"
        },
        "id": "pNAuM6rtWjX7",
        "outputId": "ce814a79-4389-408e-a426-259ccd4c7812"
      },
      "execution_count": null,
      "outputs": [
        {
          "output_type": "execute_result",
          "data": {
            "text/plain": [
              "array([0., 0., 0., 0., 0., 1., 0., 0., 0., 0.], dtype=float32)"
            ]
          },
          "metadata": {},
          "execution_count": 35
        }
      ]
    },
    {
      "cell_type": "code",
      "source": [
        "#Build Model"
      ],
      "metadata": {
        "id": "3dIdha8tWssZ"
      },
      "execution_count": null,
      "outputs": []
    },
    {
      "cell_type": "code",
      "source": [
        "model = keras.Sequential(\n",
        "    [\n",
        "     keras.Input(shape = input_shape),\n",
        "     layers.Conv2D(32, kernel_size=(3,3), activation = \"relu\"),\n",
        "     layers.MaxPooling2D(pool_size = (2, 2)),\n",
        "     layers.Conv2D(64, kernel_size=(3,3), activation = \"relu\"),\n",
        "     layers.MaxPooling2D(pool_size = (2, 2)),\n",
        "     layers.Flatten(),\n",
        "     layers.Dropout(0.5),\n",
        "     layers.Dense(num_classes, activation=\"softmax\")\n",
        "    ]\n",
        ")"
      ],
      "metadata": {
        "id": "mlyGYDHgWzU1"
      },
      "execution_count": null,
      "outputs": []
    },
    {
      "cell_type": "code",
      "source": [
        "model.summary()"
      ],
      "metadata": {
        "colab": {
          "base_uri": "https://localhost:8080/"
        },
        "id": "fw9kKH6tXMTm",
        "outputId": "91011cab-1f85-436d-bd75-6d99318b5741"
      },
      "execution_count": null,
      "outputs": [
        {
          "output_type": "stream",
          "name": "stdout",
          "text": [
            "Model: \"sequential\"\n",
            "_________________________________________________________________\n",
            " Layer (type)                Output Shape              Param #   \n",
            "=================================================================\n",
            " conv2d (Conv2D)             (None, 26, 26, 32)        320       \n",
            "                                                                 \n",
            " max_pooling2d (MaxPooling2D  (None, 13, 13, 32)       0         \n",
            " )                                                               \n",
            "                                                                 \n",
            " conv2d_1 (Conv2D)           (None, 11, 11, 64)        18496     \n",
            "                                                                 \n",
            " max_pooling2d_1 (MaxPooling  (None, 5, 5, 64)         0         \n",
            " 2D)                                                             \n",
            "                                                                 \n",
            " flatten (Flatten)           (None, 1600)              0         \n",
            "                                                                 \n",
            " dropout (Dropout)           (None, 1600)              0         \n",
            "                                                                 \n",
            " dense (Dense)               (None, 10)                16010     \n",
            "                                                                 \n",
            "=================================================================\n",
            "Total params: 34,826\n",
            "Trainable params: 34,826\n",
            "Non-trainable params: 0\n",
            "_________________________________________________________________\n"
          ]
        }
      ]
    },
    {
      "cell_type": "code",
      "source": [
        "#Train Model"
      ],
      "metadata": {
        "id": "iBArmXSmXiPG"
      },
      "execution_count": null,
      "outputs": []
    },
    {
      "cell_type": "code",
      "source": [
        "batch_size =128\n",
        "epochs =15"
      ],
      "metadata": {
        "id": "cwbglQdxXmnM"
      },
      "execution_count": null,
      "outputs": []
    },
    {
      "cell_type": "code",
      "source": [
        "model.compile(loss=\"categorical_crossentropy\", optimizer =\"adam\", metrics =[\"accuracy\"])"
      ],
      "metadata": {
        "id": "7f8CrohCXqQH"
      },
      "execution_count": null,
      "outputs": []
    },
    {
      "cell_type": "code",
      "source": [
        "model.fit(x_train, y_train, batch_size=batch_size, epochs = epochs, validation_split=0.1)\n"
      ],
      "metadata": {
        "colab": {
          "base_uri": "https://localhost:8080/"
        },
        "id": "9IizYxFBYArq",
        "outputId": "b1951fe3-a220-40e2-dcd3-584e947c80ea"
      },
      "execution_count": null,
      "outputs": [
        {
          "output_type": "stream",
          "name": "stdout",
          "text": [
            "Epoch 1/15\n",
            "422/422 [==============================] - 69s 161ms/step - loss: 0.3573 - accuracy: 0.8919 - val_loss: 0.0797 - val_accuracy: 0.9780\n",
            "Epoch 2/15\n",
            "422/422 [==============================] - 51s 121ms/step - loss: 0.1105 - accuracy: 0.9660 - val_loss: 0.0544 - val_accuracy: 0.9838\n",
            "Epoch 3/15\n",
            "422/422 [==============================] - 50s 119ms/step - loss: 0.0827 - accuracy: 0.9743 - val_loss: 0.0479 - val_accuracy: 0.9870\n",
            "Epoch 4/15\n",
            "422/422 [==============================] - 49s 117ms/step - loss: 0.0710 - accuracy: 0.9776 - val_loss: 0.0425 - val_accuracy: 0.9882\n",
            "Epoch 5/15\n",
            "422/422 [==============================] - 48s 113ms/step - loss: 0.0619 - accuracy: 0.9804 - val_loss: 0.0393 - val_accuracy: 0.9898\n",
            "Epoch 6/15\n",
            "422/422 [==============================] - 49s 117ms/step - loss: 0.0563 - accuracy: 0.9824 - val_loss: 0.0393 - val_accuracy: 0.9897\n",
            "Epoch 7/15\n",
            "422/422 [==============================] - 49s 117ms/step - loss: 0.0511 - accuracy: 0.9845 - val_loss: 0.0373 - val_accuracy: 0.9897\n",
            "Epoch 8/15\n",
            "422/422 [==============================] - 49s 116ms/step - loss: 0.0476 - accuracy: 0.9849 - val_loss: 0.0338 - val_accuracy: 0.9908\n",
            "Epoch 9/15\n",
            "422/422 [==============================] - 47s 111ms/step - loss: 0.0456 - accuracy: 0.9856 - val_loss: 0.0316 - val_accuracy: 0.9917\n",
            "Epoch 10/15\n",
            "422/422 [==============================] - 49s 117ms/step - loss: 0.0411 - accuracy: 0.9871 - val_loss: 0.0325 - val_accuracy: 0.9908\n",
            "Epoch 11/15\n",
            "422/422 [==============================] - 48s 114ms/step - loss: 0.0398 - accuracy: 0.9874 - val_loss: 0.0346 - val_accuracy: 0.9920\n",
            "Epoch 12/15\n",
            "422/422 [==============================] - 47s 112ms/step - loss: 0.0375 - accuracy: 0.9878 - val_loss: 0.0310 - val_accuracy: 0.9917\n",
            "Epoch 13/15\n",
            "422/422 [==============================] - 49s 116ms/step - loss: 0.0362 - accuracy: 0.9878 - val_loss: 0.0312 - val_accuracy: 0.9917\n",
            "Epoch 14/15\n",
            "422/422 [==============================] - 50s 119ms/step - loss: 0.0348 - accuracy: 0.9886 - val_loss: 0.0325 - val_accuracy: 0.9913\n",
            "Epoch 15/15\n",
            "422/422 [==============================] - 48s 113ms/step - loss: 0.0328 - accuracy: 0.9893 - val_loss: 0.0303 - val_accuracy: 0.9923\n"
          ]
        },
        {
          "output_type": "execute_result",
          "data": {
            "text/plain": [
              "<keras.callbacks.History at 0x7f0321834bb0>"
            ]
          },
          "metadata": {},
          "execution_count": 44
        }
      ]
    },
    {
      "cell_type": "code",
      "source": [],
      "metadata": {
        "id": "09jnI855cn5u"
      },
      "execution_count": null,
      "outputs": []
    },
    {
      "cell_type": "code",
      "source": [
        "#Evaluate the trained model\n",
        "\n",
        "score=model.evaluate(x_test, y_test, verbose =0)\n",
        "print(\"Test loss: \", score[0])\n",
        "print(\"Test accuracy: \" , score[1])"
      ],
      "metadata": {
        "colab": {
          "base_uri": "https://localhost:8080/"
        },
        "id": "AfdDhsGmYLvo",
        "outputId": "ded850ca-ba54-4f19-c7ea-20f5f5b5bce0"
      },
      "execution_count": null,
      "outputs": [
        {
          "output_type": "stream",
          "name": "stdout",
          "text": [
            "Test loss:  0.02577449567615986\n",
            "Test accuracy:  0.9905999898910522\n"
          ]
        }
      ]
    },
    {
      "cell_type": "code",
      "source": [
        "import cv2"
      ],
      "metadata": {
        "id": "dpzUt8fscLFc"
      },
      "execution_count": null,
      "outputs": []
    }
  ]
}