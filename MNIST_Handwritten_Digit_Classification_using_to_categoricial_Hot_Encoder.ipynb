{
  "nbformat": 4,
  "nbformat_minor": 0,
  "metadata": {
    "colab": {
      "provenance": []
    },
    "kernelspec": {
      "name": "python3",
      "display_name": "Python 3"
    },
    "language_info": {
      "name": "python"
    }
  },
  "cells": [
    {
      "cell_type": "code",
      "execution_count": null,
      "metadata": {
        "id": "pghvkV2pAF9K"
      },
      "outputs": [],
      "source": [
        "import numpy as np\n",
        "import pandas as pd\n",
        "import matplotlib.pyplot as plt\n",
        "from tensorflow.keras.utils import to_categorical\n",
        "\n",
        "\n"
      ]
    },
    {
      "cell_type": "markdown",
      "source": [
        "\"\"\"The to_categorical function is used to convert integer labels into one-hot encoded vectors.\n",
        "One-hot encoding is a process where each integer label is transformed into a binary vector representation.\n",
        "The vector has a length equal to the number of classes, and all elements are set to zero except for the\n",
        "index corresponding to the label, which is set to one.\n",
        "\"\"\""
      ],
      "metadata": {
        "id": "0GYx02xfGE1K"
      }
    },
    {
      "cell_type": "code",
      "source": [
        "from keras.datasets import mnist\n",
        "(training_dataset_x, training_dataset_y), (test_dataset_x, test_dataset_y)= mnist.load_data()"
      ],
      "metadata": {
        "colab": {
          "base_uri": "https://localhost:8080/"
        },
        "id": "I7OzW4CK-ZvD",
        "outputId": "0b903732-24e0-4f73-a3d6-032f9f247c9d"
      },
      "execution_count": null,
      "outputs": [
        {
          "output_type": "stream",
          "name": "stdout",
          "text": [
            "Downloading data from https://storage.googleapis.com/tensorflow/tf-keras-datasets/mnist.npz\n",
            "11490434/11490434 [==============================] - 0s 0us/step\n"
          ]
        }
      ]
    },
    {
      "cell_type": "code",
      "source": [
        "training_dataset_y=to_categorical(training_dataset_y)\n",
        "test_dataset_y= to_categorical(test_dataset_y)"
      ],
      "metadata": {
        "id": "yTsc6qiF-v0o"
      },
      "execution_count": null,
      "outputs": []
    },
    {
      "cell_type": "code",
      "source": [
        "print(training_dataset_x.shape, test_dataset_x.shape, training_dataset_y.shape)"
      ],
      "metadata": {
        "colab": {
          "base_uri": "https://localhost:8080/"
        },
        "id": "_t4hr2pF_Cu2",
        "outputId": "578fe86b-7b92-4a68-c48f-31b3d4c58498"
      },
      "execution_count": null,
      "outputs": [
        {
          "output_type": "stream",
          "name": "stdout",
          "text": [
            "(60000, 28, 28) (10000, 28, 28) (60000, 10)\n"
          ]
        }
      ]
    },
    {
      "cell_type": "code",
      "source": [
        "plt.imshow(training_dataset_x[5999])"
      ],
      "metadata": {
        "colab": {
          "base_uri": "https://localhost:8080/",
          "height": 448
        },
        "id": "3-o4g_0b_Lgu",
        "outputId": "ded79e35-7929-47d2-cb7f-305278b9c448"
      },
      "execution_count": null,
      "outputs": [
        {
          "output_type": "execute_result",
          "data": {
            "text/plain": [
              "<matplotlib.image.AxesImage at 0x7fbab1d75480>"
            ]
          },
          "metadata": {},
          "execution_count": 5
        },
        {
          "output_type": "display_data",
          "data": {
            "text/plain": [
              "<Figure size 640x480 with 1 Axes>"
            ],
            "image/png": "[encoded data removed]"
          },
          "metadata": {}
        }
      ]
    },
    {
      "cell_type": "code",
      "source": [
        "training_dataset_x=training_dataset_x/255\n",
        "test_dataset_x=test_dataset_x/255        # noramlization"
      ],
      "metadata": {
        "id": "6TrmyARNAf05"
      },
      "execution_count": null,
      "outputs": []
    },
    {
      "cell_type": "code",
      "source": [
        "from tensorflow.keras.models import Sequential\n",
        "from tensorflow.keras.layers import Dense, Flatten\n",
        "# create keras model and add the layers\n",
        "\n",
        "model =Sequential (name ='mnist')\n",
        "model.add(Flatten(input_shape= (28,28)))\n",
        "model.add(Dense(128, activation ='relu', name='Hidden-1'))\n",
        "model.add(Dense(36, activation='relu', name='Hidden-2'))\n",
        "model.add(Dense(10, activation ='softmax', name='Output'))"
      ],
      "metadata": {
        "id": "O1w0cxcvAveK"
      },
      "execution_count": null,
      "outputs": []
    },
    {
      "cell_type": "code",
      "source": [
        "model.summary()"
      ],
      "metadata": {
        "colab": {
          "base_uri": "https://localhost:8080/"
        },
        "id": "I5LlbcVtBhSK",
        "outputId": "26c06a39-7bdc-46af-c8fe-f0b2b0379306"
      },
      "execution_count": null,
      "outputs": [
        {
          "output_type": "stream",
          "name": "stdout",
          "text": [
            "Model: \"mnist\"\n",
            "_________________________________________________________________\n",
            " Layer (type)                Output Shape              Param #   \n",
            "=================================================================\n",
            " flatten (Flatten)           (None, 784)               0         \n",
            "                                                                 \n",
            " Hidden-1 (Dense)            (None, 128)               100480    \n",
            "                                                                 \n",
            " Hidden-2 (Dense)            (None, 36)                4644      \n",
            "                                                                 \n",
            " Output (Dense)              (None, 10)                370       \n",
            "                                                                 \n",
            "=================================================================\n",
            "Total params: 105,494\n",
            "Trainable params: 105,494\n",
            "Non-trainable params: 0\n",
            "_________________________________________________________________\n"
          ]
        }
      ]
    },
    {
      "cell_type": "code",
      "source": [
        "model.compile(optimizer ='Adam',  loss='categorical_crossentropy', metrics=['accuracy'])"
      ],
      "metadata": {
        "id": "qKElyslJBnMD"
      },
      "execution_count": null,
      "outputs": []
    },
    {
      "cell_type": "code",
      "source": [
        "hist= model.fit(training_dataset_x, training_dataset_y,epochs=10, validation_split=0.2 )"
      ],
      "metadata": {
        "colab": {
          "base_uri": "https://localhost:8080/"
        },
        "id": "G5uoBjMaB1mf",
        "outputId": "8c145069-3a3c-4d05-8534-cff3b5fd45e9"
      },
      "execution_count": null,
      "outputs": [
        {
          "output_type": "stream",
          "name": "stdout",
          "text": [
            "Epoch 1/10\n",
            "1500/1500 [==============================] - 7s 4ms/step - loss: 0.2800 - accuracy: 0.9176 - val_loss: 0.1395 - val_accuracy: 0.9589\n",
            "Epoch 2/10\n",
            "1500/1500 [==============================] - 7s 5ms/step - loss: 0.1178 - accuracy: 0.9652 - val_loss: 0.0995 - val_accuracy: 0.9698\n",
            "Epoch 3/10\n",
            "1500/1500 [==============================] - 7s 4ms/step - loss: 0.0829 - accuracy: 0.9745 - val_loss: 0.1246 - val_accuracy: 0.9628\n",
            "Epoch 4/10\n",
            "1500/1500 [==============================] - 6s 4ms/step - loss: 0.0626 - accuracy: 0.9808 - val_loss: 0.0863 - val_accuracy: 0.9751\n",
            "Epoch 5/10\n",
            "1500/1500 [==============================] - 7s 4ms/step - loss: 0.0477 - accuracy: 0.9852 - val_loss: 0.1001 - val_accuracy: 0.9706\n",
            "Epoch 6/10\n",
            "1500/1500 [==============================] - 6s 4ms/step - loss: 0.0373 - accuracy: 0.9879 - val_loss: 0.0998 - val_accuracy: 0.9731\n",
            "Epoch 7/10\n",
            "1500/1500 [==============================] - 7s 5ms/step - loss: 0.0311 - accuracy: 0.9900 - val_loss: 0.0996 - val_accuracy: 0.9743\n",
            "Epoch 8/10\n",
            "1500/1500 [==============================] - 6s 4ms/step - loss: 0.0256 - accuracy: 0.9919 - val_loss: 0.1095 - val_accuracy: 0.9734\n",
            "Epoch 9/10\n",
            "1500/1500 [==============================] - 7s 5ms/step - loss: 0.0236 - accuracy: 0.9926 - val_loss: 0.1157 - val_accuracy: 0.9728\n",
            "Epoch 10/10\n",
            "1500/1500 [==============================] - 6s 4ms/step - loss: 0.0197 - accuracy: 0.9935 - val_loss: 0.1228 - val_accuracy: 0.9721\n"
          ]
        }
      ]
    },
    {
      "cell_type": "code",
      "source": [
        "plt.title('Loss-Epoch Graphics')\n",
        "plt.xlabel('Epoch')\n",
        "plt.ylabel('categorical_crossentropy')\n",
        "plt.plot(hist.history['loss'])\n",
        "plt.plot(hist.history['val_loss'])\n",
        "plt.legend(['Loss','Validation Loss'])\n",
        "plt.show()"
      ],
      "metadata": {
        "colab": {
          "base_uri": "https://localhost:8080/",
          "height": 472
        },
        "id": "99owEpDxCBQZ",
        "outputId": "49053c2e-a91e-496f-a7a4-03fa1a6aee9a"
      },
      "execution_count": null,
      "outputs": [
        {
          "output_type": "display_data",
          "data": {
            "text/plain": [
              "<Figure size 640x480 with 1 Axes>"
            ],
            "image/png": "[encoded data removed]"
          },
          "metadata": {}
        }
      ]
    },
    {
      "cell_type": "code",
      "source": [
        "print(test_dataset_x.shape)\n",
        "y_prob=model.predict(test_dataset_x)"
      ],
      "metadata": {
        "colab": {
          "base_uri": "https://localhost:8080/"
        },
        "id": "XwXXZ1CoEMXW",
        "outputId": "0b7c7720-83cc-433a-decd-48e19f6bc7e0"
      },
      "execution_count": null,
      "outputs": [
        {
          "output_type": "stream",
          "name": "stdout",
          "text": [
            "(10000, 28, 28)\n",
            "313/313 [==============================] - 1s 2ms/step\n"
          ]
        }
      ]
    },
    {
      "cell_type": "code",
      "source": [
        "y_prob"
      ],
      "metadata": {
        "colab": {
          "base_uri": "https://localhost:8080/"
        },
        "id": "tHMvpND6Ed08",
        "outputId": "a1b5eb30-efba-4a0e-d1d3-e4d10e67b101"
      },
      "execution_count": null,
      "outputs": [
        {
          "output_type": "execute_result",
          "data": {
            "text/plain": [
              "array([[2.48585152e-08, 4.49808107e-10, 1.11217169e-05, ...,\n",
              "        9.99894679e-01, 8.39552001e-08, 6.78594120e-07],\n",
              "       [8.46646090e-14, 7.04398673e-09, 9.99999940e-01, ...,\n",
              "        2.24617196e-14, 1.21616911e-10, 8.52351454e-17],\n",
              "       [1.19898084e-06, 9.99832392e-01, 1.15275827e-06, ...,\n",
              "        1.38434596e-04, 2.30813039e-05, 6.30171137e-10],\n",
              "       ...,\n",
              "       [1.69827224e-19, 3.16765826e-14, 1.13641117e-17, ...,\n",
              "        6.58435589e-12, 1.08255893e-13, 1.12455290e-08],\n",
              "       [3.15124177e-11, 1.80776916e-09, 1.35125313e-16, ...,\n",
              "        4.14699227e-13, 4.30649614e-08, 4.98245405e-15],\n",
              "       [1.81185497e-14, 1.18149305e-14, 9.39690274e-13, ...,\n",
              "        3.06626403e-16, 2.65956656e-14, 7.58143391e-17]], dtype=float32)"
            ]
          },
          "metadata": {},
          "execution_count": 16
        }
      ]
    },
    {
      "cell_type": "code",
      "source": [
        "y_p =y_prob.argmax(axis=1)\n",
        "print(y_p)"
      ],
      "metadata": {
        "colab": {
          "base_uri": "https://localhost:8080/"
        },
        "id": "0-ABCfhaEjbX",
        "outputId": "d8e59fa8-c6cf-42db-da21-3c6d419ddb9d"
      },
      "execution_count": null,
      "outputs": [
        {
          "output_type": "stream",
          "name": "stdout",
          "text": [
            "[7 2 1 ... 4 5 6]\n"
          ]
        }
      ]
    },
    {
      "cell_type": "code",
      "source": [
        "test_result = model.evaluate(test_dataset_x, test_dataset_y)\n",
        "for i in range(len(test_result)):\n",
        "    print(f'{model.metrics_names[i]} ---> {test_result[i]}')"
      ],
      "metadata": {
        "colab": {
          "base_uri": "https://localhost:8080/"
        },
        "id": "1nEGlquSErgd",
        "outputId": "8e9547ad-201c-4ce6-d1ee-c1b4fcaebdb8"
      },
      "execution_count": null,
      "outputs": [
        {
          "output_type": "stream",
          "name": "stdout",
          "text": [
            "313/313 [==============================] - 1s 2ms/step - loss: 0.1074 - accuracy: 0.9736\n",
            "loss ---> 0.1074405238032341\n",
            "accuracy ---> 0.9735999703407288\n"
          ]
        }
      ]
    },
    {
      "cell_type": "code",
      "source": [],
      "metadata": {
        "id": "Ofo42XPCE8mQ"
      },
      "execution_count": null,
      "outputs": []
    }
  ]
}